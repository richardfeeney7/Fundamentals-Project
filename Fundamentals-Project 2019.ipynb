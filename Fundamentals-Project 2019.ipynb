{
 "cells": [
  {
   "cell_type": "markdown",
   "metadata": {},
   "source": [
    "# _Fundamentials of Data Analysis Project 2019_"
   ]
  },
  {
   "cell_type": "markdown",
   "metadata": {},
   "source": [
    "## _Libraries Used_ "
   ]
  },
  {
   "cell_type": "code",
   "execution_count": 1,
   "metadata": {},
   "outputs": [],
   "source": [
    "#import the libraries\n",
    "import numpy as np\n",
    "import pandas as pd\n",
    "import seaborn as sns\n",
    "from seaborn import axes_style\n",
    "import matplotlib.pyplot as plt\n",
    "from matplotlib.pyplot import suptitle\n",
    "from matplotlib import rcParams\n",
    "\n",
    "%matplotlib inline\n",
    "\n",
    "# pp is used when profiling\n",
    "import pandas_profiling as pp\n",
    "\n",
    "# Colored is used to add colour to prints\n",
    "from termcolor import colored\n",
    "\n",
    "# Used for regression\n",
    "import statsmodels.api as sm\n",
    "from sklearn.preprocessing import PolynomialFeatures\n",
    "from sklearn.linear_model import LinearRegression\n",
    "from sklearn.model_selection import train_test_split\n"
   ]
  },
  {
   "cell_type": "markdown",
   "metadata": {},
   "source": [
    "<hr>"
   ]
  },
  {
   "cell_type": "markdown",
   "metadata": {},
   "source": [
    "## _Explore the Data_ "
   ]
  },
  {
   "cell_type": "markdown",
   "metadata": {},
   "source": [
    "Once I downloaded the dataset I stored it in a file named tips.csv. I then needed to load that csv file so I can view the contents by using seaborn. \n",
    "\n",
    "My first command when receiving a new dataset is to simply print it and get an idea of its structure. From the print below I can see that 244 rows x 8 columns. We can also see that gender, smoker, day and time are categorical data. And total_bill, tip, and size are numerical data."
   ]
  },
  {
   "cell_type": "code",
   "execution_count": 2,
   "metadata": {},
   "outputs": [
    {
     "name": "stdout",
     "output_type": "stream",
     "text": [
      "     total_bill   tip     sex smoker   day    time  size\n",
      "0         16.99  1.01  Female     No   Sun  Dinner     2\n",
      "1         10.34  1.66    Male     No   Sun  Dinner     3\n",
      "2         21.01  3.50    Male     No   Sun  Dinner     3\n",
      "3         23.68  3.31    Male     No   Sun  Dinner     2\n",
      "4         24.59  3.61  Female     No   Sun  Dinner     4\n",
      "..          ...   ...     ...    ...   ...     ...   ...\n",
      "239       29.03  5.92    Male     No   Sat  Dinner     3\n",
      "240       27.18  2.00  Female    Yes   Sat  Dinner     2\n",
      "241       22.67  2.00    Male    Yes   Sat  Dinner     2\n",
      "242       17.82  1.75    Male     No   Sat  Dinner     2\n",
      "243       18.78  3.00  Female     No  Thur  Dinner     2\n",
      "\n",
      "[244 rows x 7 columns]\n"
     ]
    }
   ],
   "source": [
    "# Read CSV File\n",
    "tips = sns.load_dataset(\"tips\")\n",
    "\n",
    "# Print tips CSV\n",
    "print(tips)"
   ]
  },
  {
   "cell_type": "markdown",
   "metadata": {},
   "source": [
    "<hr>"
   ]
  },
  {
   "cell_type": "markdown",
   "metadata": {},
   "source": [
    "### Peek at the data\n",
    "\n",
    "In this section I have used the head and tail functions to demonstrate that we can specify how many rows we want to see during the output along with this I have demonstrated that is is possible to select a range in any given column. \n",
    "\n",
    "I have checked for missing values or an empty cell as this will need to be corrected in any given data set that requires us to implement machine learning. \n",
    "\n",
    "If we find missing values we can do the following : \n",
    "    * Use the mean or median to replace the missing value\n",
    "    * Use a larger negative number such as -999"
   ]
  },
  {
   "cell_type": "code",
   "execution_count": 3,
   "metadata": {},
   "outputs": [
    {
     "name": "stdout",
     "output_type": "stream",
     "text": [
      "Has the data set any missing values ? True or False ? = False \n",
      "\n",
      "\u001b[31m     Display the first two rows of the Tips Data set\u001b[0m\n",
      "   total_bill   tip     sex smoker  day    time  size\n",
      "0       16.99  1.01  Female     No  Sun  Dinner     2\n",
      "1       10.34  1.66    Male     No  Sun  Dinner     3 \n",
      "\n",
      "\n",
      "\u001b[31m     Display the last rows of the Tips Data set\u001b[0m\n",
      "     total_bill   tip     sex smoker   day    time  size\n",
      "242       17.82  1.75    Male     No   Sat  Dinner     2\n",
      "243       18.78  3.00  Female     No  Thur  Dinner     2\n",
      "\n",
      "\n",
      "The first two position in the tips column are : \n",
      " 0    1.01\n",
      "1    1.66\n",
      "Name: tip, dtype: float64 \n",
      "\n",
      "The shape of the dataset is :  (244, 7)\n"
     ]
    }
   ],
   "source": [
    "#check for missing values (Basic True / False responce)\n",
    "print(\"Has the data set any missing values ? True or False ? =\",tips.isnull().values.any(), \"\\n\")\n",
    "\n",
    "# View the first two rows of the dataset. We can see the different columns and structure of the CSV file\n",
    "print(colored(\"     Display the first two rows of the Tips Data set\", \"red\"))\n",
    "print(tips.head(2), \"\\n\\n\")\n",
    "\n",
    "\n",
    "# View the last two rows of the dataset. We can see the different columns and structure of the CSV file\n",
    "# Viewing the tail is a good way to check for CSV file isses. \n",
    "print(colored(\"     Display the last rows of the Tips Data set\", \"red\"))\n",
    "print(tips.tail(2))\n",
    "\n",
    "print(\"\\n\")\n",
    "\n",
    "# Below we can see .head(2) for the tips column + See the Shape of the Dataset  \n",
    "print(\"The first two position in the tips column are :\",\"\\n\",tips[\"tip\"].head(2),\"\\n\\n\" \"The shape of the dataset is : \", tips.shape)"
   ]
  },
  {
   "cell_type": "markdown",
   "metadata": {},
   "source": [
    "<hr>"
   ]
  },
  {
   "cell_type": "markdown",
   "metadata": {},
   "source": [
    "### Statistical Summary.\n",
    "\n",
    "#### 1) Dataframe.describe()\n",
    "The python \"describe\" method is a great option to use that will display the median, mean, min, max, standard deviations etc. It is a good idea to to create this as it is easy to view and can indicate any unexpected or surprising distributions in the dataset.<i>(Medium, 2019)</i>\n",
    "\n",
    "\n",
    "Key things to note : \n",
    "        * Average Total_Bill = 19.75\n",
    "        * Max Total_Bill     = 50.81\n",
    "        * Min Total_Bill     = 3.07\n",
    "\n",
    "        * Average Tip        = 2.99 ( or 3 if rounded )\n",
    "        * Max Tip            = 10\n",
    "        * Min Tip            = 1\n",
    "        \n",
    "        * Average Party Size = 2 - 3 people\n",
    "        * Max Party Size     = 6 people\n",
    "        * Min Party Size     = 1\n",
    "        \n",
    "        * More men than woman attended the restaurant\n",
    "        "
   ]
  },
  {
   "cell_type": "code",
   "execution_count": 4,
   "metadata": {},
   "outputs": [
    {
     "name": "stdout",
     "output_type": "stream",
     "text": [
      "        total_bill         tip   sex smoker  day    time        size\n",
      "count   244.000000  244.000000   244    244  244     244  244.000000\n",
      "unique    0.000000    0.000000     2      2    4       2    0.000000\n",
      "top       0.000000    0.000000  Male     No  Sat  Dinner    0.000000\n",
      "freq      0.000000    0.000000   157    151   87     176    0.000000\n",
      "mean     19.785943    2.998279     0      0    0       0    2.569672\n",
      "std       8.902412    1.383638     0      0    0       0    0.951100\n",
      "min       3.070000    1.000000     0      0    0       0    1.000000\n",
      "25%      13.347500    2.000000     0      0    0       0    2.000000\n",
      "50%      17.795000    2.900000     0      0    0       0    2.000000\n",
      "75%      24.127500    3.562500     0      0    0       0    3.000000\n",
      "max      50.810000   10.000000     0      0    0       0    6.000000\n"
     ]
    }
   ],
   "source": [
    "# Statistical Summary, fillna(0) is used to replaced NaN\n",
    "print(tips.describe(include=\"all\").fillna(0))"
   ]
  },
  {
   "cell_type": "markdown",
   "metadata": {},
   "source": [
    "<hr>"
   ]
  },
  {
   "cell_type": "markdown",
   "metadata": {},
   "source": [
    "#### 2) Dataframe.info()\n",
    "\n",
    "Pandas is a very good option to consider when doing data analysis. Dataframe.info() is used to return information about the tips dataframe including the data types of each column, if it is null and memory usage of the entire data. It comes really handy when doing exploratory analysis of the data.<i>(GeeksforGeeks, 2019)</i>"
   ]
  },
  {
   "cell_type": "code",
   "execution_count": 5,
   "metadata": {},
   "outputs": [
    {
     "name": "stdout",
     "output_type": "stream",
     "text": [
      "\u001b[31mCheck for null values within the dataset \n",
      "\u001b[0m\n",
      "<class 'pandas.core.frame.DataFrame'>\n",
      "RangeIndex: 244 entries, 0 to 243\n",
      "Data columns (total 7 columns):\n",
      "total_bill    244 non-null float64\n",
      "tip           244 non-null float64\n",
      "sex           244 non-null category\n",
      "smoker        244 non-null category\n",
      "day           244 non-null category\n",
      "time          244 non-null category\n",
      "size          244 non-null int64\n",
      "dtypes: category(4), float64(2), int64(1)\n",
      "memory usage: 7.3 KB\n",
      "None\n"
     ]
    }
   ],
   "source": [
    "# Add colour to print statement\n",
    "print(colored(\"Check for null values within the dataset \\n\", \"red\"))\n",
    "# Check for any null or missing values, data types etc.\n",
    "print(tips.info())"
   ]
  },
  {
   "cell_type": "markdown",
   "metadata": {},
   "source": [
    "<hr>"
   ]
  },
  {
   "cell_type": "markdown",
   "metadata": {},
   "source": [
    "#### 4) Dataframe.groupby()\n",
    "\n",
    "<center>I have used the Pandas dataframe.groupby() to split the Tips data set into groups based on some criteria.</center>\n",
    "\n",
    "##### 4.1\n",
    "The following groupby function is focused towards the total bill within the dataset and I have used this function to break the data set based on sex, smokers, and time that they attended the restaurant.<i>(GeeksforGeeks, 2019)</i>. Using groupby I can clearly see how much each sex pay towards tips at different times. To finish it off I will output the overall total in relation to total bill.It is clear to see that the output have alot of 0.0 values and this will need to be investigated further and displayed in better formats."
   ]
  },
  {
   "cell_type": "code",
   "execution_count": 6,
   "metadata": {},
   "outputs": [
    {
     "name": "stdout",
     "output_type": "stream",
     "text": [
      "size                           1       2       3       4      5      6\n",
      "sex    smoker day  time                                               \n",
      "Male   Yes    Thur Lunch    0.00  152.47   18.71   20.53   0.00   0.00\n",
      "                   Dinner   0.00    0.00    0.00    0.00   0.00   0.00\n",
      "              Fri  Lunch    8.58   25.58    0.00    0.00   0.00   0.00\n",
      "                   Dinner   0.00   89.29    0.00   40.17   0.00   0.00\n",
      "              Sat  Lunch    0.00    0.00    0.00    0.00   0.00   0.00\n",
      "                   Dinner   0.00  293.39  123.15  144.93  28.15   0.00\n",
      "              Sun  Lunch    0.00    0.00    0.00    0.00   0.00   0.00\n",
      "                   Dinner   0.00  235.39   68.45   57.82  30.46   0.00\n",
      "       No     Thur Lunch    0.00  244.22   22.82   27.20  41.19  34.30\n",
      "                   Dinner   0.00    0.00    0.00    0.00   0.00   0.00\n",
      "              Fri  Lunch    0.00    0.00    0.00    0.00   0.00   0.00\n",
      "                   Dinner   0.00   34.95    0.00    0.00   0.00   0.00\n",
      "              Sat  Lunch    0.00    0.00    0.00    0.00   0.00   0.00\n",
      "                   Dinner   0.00  251.38  193.72  192.63   0.00   0.00\n",
      "              Sun  Lunch    0.00    0.00    0.00    0.00   0.00   0.00\n",
      "                   Dinner   0.00  349.53  156.04  302.91  20.69  48.17\n",
      "Female Yes    Thur Lunch    0.00   74.95   16.47   43.11   0.00   0.00\n",
      "                   Dinner   0.00    0.00    0.00    0.00   0.00   0.00\n",
      "              Fri  Lunch    0.00   39.78    0.00    0.00   0.00   0.00\n",
      "                   Dinner   0.00   48.80    0.00    0.00   0.00   0.00\n",
      "              Sat  Lunch    0.00    0.00    0.00    0.00   0.00   0.00\n",
      "                   Dinner   3.07  198.32   72.47   30.14   0.00   0.00\n",
      "              Sun  Lunch    0.00    0.00    0.00    0.00   0.00   0.00\n",
      "                   Dinner   0.00   27.11   39.05    0.00   0.00   0.00\n",
      "       No     Thur Lunch   10.07  237.11   18.64   58.91   0.00  56.85\n",
      "                   Dinner   0.00   18.78    0.00    0.00   0.00   0.00\n",
      "              Fri  Lunch    0.00    0.00   15.98    0.00   0.00   0.00\n",
      "                   Dinner   0.00   22.75    0.00    0.00   0.00   0.00\n",
      "              Sat  Lunch    0.00    0.00    0.00    0.00   0.00   0.00\n",
      "                   Dinner   7.25  149.28   69.83   20.69   0.00   0.00\n",
      "              Sun  Lunch    0.00    0.00    0.00    0.00   0.00   0.00\n",
      "                   Dinner   0.00   72.81   69.22  119.66  29.85   0.00 \n",
      "\n",
      "\n",
      " Total bill is : $4827.77\n"
     ]
    }
   ],
   "source": [
    "# .fillna(0) is used to replaced NaN as no one had eaten. ((Pandas.pydata.org, 2019))\n",
    "# .unstack() unstacks the row to columns . Basically it’s a reverse of stacking ((Pandas.pydata.org, 2019))\n",
    "\n",
    "print(tips.groupby([\"sex\", \"smoker\", \"day\", \"time\", \"size\"])[\"total_bill\"].sum().unstack().fillna(0),\"\\n\")\n",
    "\n",
    "# Total the amount of tips\n",
    "bill_total = tips.total_bill.sum()\n",
    "\n",
    "# Sum the total bill \n",
    "print(\"\\n Total bill is : ${:.2f}\".format(bill_total))"
   ]
  },
  {
   "cell_type": "markdown",
   "metadata": {},
   "source": [
    "<hr>"
   ]
  },
  {
   "cell_type": "markdown",
   "metadata": {},
   "source": [
    "##### 4.2\n",
    "The following groupby function is focused towards the tips within the dataset. I have used a groupby function to break the data set based on sex, smokers, and time that they attended the restaurant.<i>(GeeksforGeeks, 2019)</i> To finish it off I will output the overall total in relation to tips."
   ]
  },
  {
   "cell_type": "code",
   "execution_count": 7,
   "metadata": {},
   "outputs": [
    {
     "name": "stdout",
     "output_type": "stream",
     "text": [
      "time                Lunch  Dinner\n",
      "sex    smoker day                \n",
      "Male   Yes    Thur  30.58    0.00\n",
      "              Fri    5.70   16.23\n",
      "              Sat    0.00   77.74\n",
      "              Sun    0.00   52.82\n",
      "       No     Thur  58.83    0.00\n",
      "              Fri    0.00    5.00\n",
      "              Sat    0.00  104.21\n",
      "              Sun    0.00  133.96\n",
      "Female Yes    Thur  20.93    0.00\n",
      "              Fri    7.98   10.80\n",
      "              Sat    0.00   43.03\n",
      "              Sun    0.00   14.00\n",
      "       No     Thur  58.49    3.00\n",
      "              Fri    3.00    3.25\n",
      "              Sat    0.00   35.42\n",
      "              Sun    0.00   46.61\n",
      "\n",
      " \n",
      " Total tips : $731.58\n"
     ]
    }
   ],
   "source": [
    "# How much did the smokers and non smokers pay towards tips.  \n",
    "# .fillna(0) is used to replaced NaN as no one had eaten. ((Pandas.pydata.org, 2019))\n",
    "# .unstack() unstacks the row to columns . Basically it’s a reverse of stacking ((Pandas.pydata.org, 2019))\n",
    "\n",
    "print(tips.groupby([\"sex\", \"smoker\", \"day\", \"time\"])[\"tip\"].sum().unstack().fillna(0))\n",
    "\n",
    "# Total the amount of tips\n",
    "tip_tot = tips.tip.sum()\n",
    "\n",
    "print (\"\\n \\n Total tips : ${:.2f}\".format(tip_tot))"
   ]
  },
  {
   "cell_type": "markdown",
   "metadata": {},
   "source": [
    "<hr>"
   ]
  },
  {
   "cell_type": "markdown",
   "metadata": {},
   "source": [
    "##### 4.3\n",
    "The following groupby function is focused towards gender and if they smoke or not. Please note that towards the end of the notebook I have used a .replace to change gender to numbers when creating a Linear Model, if this cell is run after the full notebook is executed it will display Male as 0 and Female as 1. To view correctly restart the notebook.\n",
    "\n",
    "From my finding we can see that the restaurant had 157 Male and 87 Female customers (244 total). From the total of 244 customers they had 60 male smokers and 33 female smokers. The total tips received from smokers was higher from men but this can be expected as the amount of male smokes was almost double. \n",
    "\n",
    "The total amount of smokers (Male and Female) was 93 while the total amount of non smokers(Male and Female) was 152 and we can see that the total amount of tips was higher from non smokers but this would be expected as more customers did not smoke. "
   ]
  },
  {
   "cell_type": "code",
   "execution_count": 16,
   "metadata": {
    "scrolled": false
   },
   "outputs": [
    {
     "name": "stdout",
     "output_type": "stream",
     "text": [
      "        total_bill     tip  size\n",
      "sex                             \n",
      "Male       3256.82  485.07   413\n",
      "Female     1570.95  246.51   214\n",
      "\n",
      "\n",
      "Amount of people based on gender : \n",
      " sex\n",
      "Male      157\n",
      "Female     87\n",
      "Name: smoker, dtype: int64\n",
      "\n",
      "\n",
      "Amount of smokers and non smokers that gave a tip : \n",
      " smoker  sex   \n",
      "Yes     Male      60\n",
      "        Female    33\n",
      "No      Male      97\n",
      "        Female    54\n",
      "Name: tip, dtype: int64\n",
      "\n",
      "\n",
      "Amount of tips that smokers and non smokers gave : \n",
      " smoker  sex   \n",
      "Yes     Male      183.07\n",
      "        Female     96.74\n",
      "No      Male      302.00\n",
      "        Female    149.77\n",
      "Name: tip, dtype: float64\n"
     ]
    }
   ],
   "source": [
    "# Groups by the sex column to view the total tips and size of party\n",
    "print(tips.groupby(\"sex\").sum())\n",
    "\n",
    "# Total amount of people\n",
    "print(\"\\n\\nAmount of people based on gender :\",\"\\n\",tips.groupby(by = [\"sex\"])[\"smoker\"].count())\n",
    "\n",
    "print(\"\\n\\nAmount of smokers and non smokers that gave a tip :\",\"\\n\",tips.groupby(by = [\"smoker\", \"sex\"])[\"tip\"].count())\n",
    "print(\"\\n\\nAmount of tips that smokers and non smokers gave :\",\"\\n\",tips.groupby(by = [\"smoker\", \"sex\"])[\"tip\"].sum())\n"
   ]
  },
  {
   "cell_type": "markdown",
   "metadata": {},
   "source": [
    "<hr>"
   ]
  },
  {
   "cell_type": "markdown",
   "metadata": {},
   "source": [
    "## Statistical Analysis"
   ]
  },
  {
   "cell_type": "code",
   "execution_count": null,
   "metadata": {},
   "outputs": [],
   "source": [
    "# Mean / Average  of the tips column\n",
    "mean_tip = tips[\"tip\"].mean()\n",
    "\n",
    "# Mean / Average of the total_bill column\n",
    "mean_total_bill = tips[\"total_bill\"].mean()\n",
    "\n",
    "# Median of the tips column\n",
    "median_tip = tips[\"tip\"].median()\n",
    "\n",
    "# Median of the total_bill column\n",
    "median_total_bill = tips[\"total_bill\"].median()\n",
    "\n",
    "# Mode of the tips column\n",
    "mode_tip = tips[\"tip\"].mode()\n",
    "\n",
    "# Mode of the total_bill column\n",
    "mode_total_bill = tips[\"total_bill\"].mode()\n",
    "\n",
    "# Max tip price\n",
    "max_tip_price = max(tips[\"tip\"])\n",
    "\n",
    "# Minimum tip price\n",
    "min_tip_price = min(tips[\"tip\"])\n",
    "\n",
    "# Max total tip price\n",
    "max_total_bill_price = max(tips[\"total_bill\"])\n",
    "\n",
    "# Minimum total bill price\n",
    "min_total_price = min(tips[\"total_bill\"])\n",
    "\n",
    "# Calculate and show statistics\n",
    "print (\"The maximum total bill is   : {:.2f}\".format(max_total_bill_price))\n",
    "print (\"The minimum total bill is   : {:.2f}\".format(min_total_price),\"\\n\")\n",
    "\n",
    "print (\"The maximum tip is          : {:.2f}\".format(max_tip_price))\n",
    "print (\"The minimum tip is          : {:.2f}\".format(min_total_price),\"\\n\")\n",
    "print(\"Total bill is               :\",tips.total_bill.sum())\n",
    "print (\"Total tips                  : {:.2f}\".format(tip_tot),\"\\n\\n\")\n",
    "\n",
    "print (\"The mean of tip is          : {:.2f}\".format(mean_tip))\n",
    "print (\"The mean of total bill is   : {:.2f}\".format(mean_total_bill),\"\\n\")\n",
    "\n",
    "print (\"The median of tip is        : {:.2f}\".format(median_tip))\n",
    "print (\"The median of total bill is : {:.2f}\".format(median_total_bill),\"\\n\")\n",
    "\n",
    "# Using [0] removed displaying the datatype(float) so it is better when viewingS. \n",
    "print (\"The mode of tip is          :\", (mode_tip[0]))\n",
    "print (\"The mode of total bill is   :\", (mode_total_bill[0]))"
   ]
  },
  {
   "cell_type": "markdown",
   "metadata": {},
   "source": [
    "### The best day to work?\n",
    "\n",
    "Saturday is probably the best day to work as the tip count is highest. Overall the tip percentage are around 15% for each day. "
   ]
  },
  {
   "cell_type": "code",
   "execution_count": null,
   "metadata": {},
   "outputs": [],
   "source": [
    "best_day = tips.groupby(\"day\").sum()  # Groupby day and store in variable\n",
    "best_day.drop(\"size\", inplace =True, axis =1) # Drop the size column from the output\n",
    "best_day[\"percent\"] = best_day[\"tip\"]/best_day[\"total_bill\"]*100 # Add percent column\n",
    "print(best_day) # Print result"
   ]
  },
  {
   "cell_type": "markdown",
   "metadata": {},
   "source": [
    "<hr>"
   ]
  },
  {
   "cell_type": "markdown",
   "metadata": {},
   "source": [
    "### Profiling Report\n",
    "For profiling we first need to go to the command line and type python -m pip install pandas-profiling\n",
    "\n",
    "Profiling is a simple and quick way to explore the dataset and is a better than the previous methods such as .describe() and .info() as these offer a very basic overview and with large datasets profiling is a much better option. Pandas Profiling function extends the pandas DataFrame for quick data analysis. It displays a lot of information with a single line of code. This display is very user friendly as it is displayed like a report that interactive. (Medium, 2019)"
   ]
  },
  {
   "cell_type": "code",
   "execution_count": null,
   "metadata": {},
   "outputs": [],
   "source": [
    "# Print the profiling report\n",
    "pp.ProfileReport(tips)"
   ]
  },
  {
   "cell_type": "markdown",
   "metadata": {},
   "source": [
    "<hr>"
   ]
  },
  {
   "cell_type": "markdown",
   "metadata": {},
   "source": [
    "## _Visualise The Data_\n",
    "\n",
    "Data visualisation is used to serve two purposes, to bring clarity during analysis and to communicate. Visualisation in simple terms is the process of representing data graphically as we try and identify trends and or patterns within a dataset that would otherwise be unclear or difficult to discern. Incorrect visualisation leads to confusion, errors, and abandonment among viewers.<i>(Betterevaluation.org, 2019)<i/>"
   ]
  },
  {
   "cell_type": "markdown",
   "metadata": {},
   "source": [
    "### _ScatterPlot_\n",
    "\n",
    "A scatter plot is a two-dimensional data visualization that uses dots to represent the values obtained for different variables. These dots are plotted along the x-axis and y-axis. We use scatter plots when we want to reveal an association between two variables. This association is called a correlation <i>(Chartio, 2019).</i>\n",
    "\n",
    "The following two scatterplots are generated side by side. The first scatterplots seperates based on gender. Earlier I found the mean total bill is 19.78 dollars and from the graphs generated we can see that this is correct as a high number of tips are between two and four when the total bill is between ten and twenty. The graph on the right displays the same information but if the person is a smoker or not. For me it is unclear to see if a smokers prefers to give a lower tip, I had considered this to be the case but from the scatter plot I can see that the largest tip of over 10 dollars came from a male who is a smoker, while the lowest tip received appears to have come from a female who is not a smoker."
   ]
  },
  {
   "cell_type": "code",
   "execution_count": null,
   "metadata": {},
   "outputs": [],
   "source": [
    "# ScatterPlot\n",
    "# Define Plot Colours. Blue for men, pink for girls\n",
    "colours = [\"blue\", \"pink\"] \n",
    "\n",
    "f, axes = plt.subplots(1, 2) # Allow me to generate graphs side by side\n",
    "rcParams['figure.figsize'] = 20,9 # Set display size\n",
    "\n",
    "markers = {\"Male\": \"X\", \"Female\" : \"s\"} # Set the markers to be used in the plots\n",
    "sns.scatterplot(x=\"total_bill\", y =\"tip\", style =\"sex\", hue=\"sex\", data=tips, palette=colours, markers= markers, ax=axes[0])\n",
    "\n",
    "\n",
    "\n",
    "# Earlier we seen that the dataset has 93 people that smoke and 151 people dont smoke. Lets view this relationship. \n",
    "markers = {\"Yes\": \"X\", \"No\" : \"s\"}# Set the markers to be used in the plots\n",
    "sns.scatterplot(x=\"total_bill\", y =\"tip\", style =\"smoker\", markers= markers, hue =\"smoker\",data=tips, ax=axes[1])\n",
    "plt.show()"
   ]
  },
  {
   "cell_type": "markdown",
   "metadata": {},
   "source": [
    "<hr>"
   ]
  },
  {
   "cell_type": "markdown",
   "metadata": {},
   "source": [
    "### Swarm Plot\n",
    "\n",
    "A swarm plot uses an algorithm that prevents the points from overlapping and adjusts the points along the categorical axis.<i>(Visualization and Python, 2019)</i> Both swarm plots that I have used will separate based on gender. We can see that that the tips between two and four are most frequent. The second swarm plot is displaying that the majority of the total bill is in the range of between 10 and 30 dollars. This is confirming what we have viewed from the scatterplots but with a much better visual representation."
   ]
  },
  {
   "cell_type": "code",
   "execution_count": null,
   "metadata": {
    "scrolled": false
   },
   "outputs": [],
   "source": [
    "# Lets see the tips depending on sex \n",
    "\n",
    "# Define Plot Colours. Blue for men, pink for girls\n",
    "colours = [\"blue\", \"pink\"] \n",
    "\n",
    "# Add kind to to generate the swarm plot. Height and Aspect will position accross the page\n",
    "sns.catplot(x=\"sex\", y=\"tip\", data=tips, kind=\"swarm\", height=5, aspect=2.5, palette=colours)\n",
    "plt.show()\n",
    "\n",
    "# Add kind to to generate the swarm plot. Height and Aspect will position accross the page\n",
    "sns.catplot(x=\"sex\", y=\"total_bill\", data=tips, kind=\"swarm\", height=5, aspect=2.5, palette=colours)\n",
    "plt.show()"
   ]
  },
  {
   "cell_type": "markdown",
   "metadata": {},
   "source": [
    "<hr>"
   ]
  },
  {
   "cell_type": "markdown",
   "metadata": {},
   "source": [
    "### Violin Plot\n",
    "\n",
    "A violin plot combines a boxplot and kernel density estimation (KDE) to provide richer description of the distribution of values. The quartile values are displayed inside the violin. We can also split the violin when the hue semantic parameter has only two levels, which could also be helpful in saving space on the plot.<i>(Visualization and Python, 2019)</i>\n",
    "\n",
    "The violin plots I have used will display the days that people visited and what the total bill and total tips were. We can see that Friday was the quietest day and as expected Saturday and Sunday were the busiest days.\n",
    "\n",
    "In the second and third violin plot, we investigate the distribution of the total bill and tip amount per day based on gender. Immediately we see that the largest difference in the shape of the distribution between genders happens on Fridays and overall that more men attended the restaurant. "
   ]
  },
  {
   "cell_type": "code",
   "execution_count": null,
   "metadata": {
    "scrolled": false
   },
   "outputs": [],
   "source": [
    "\n",
    "colours = [\"blue\", \"pink\"] # Define Plot Colours. Blue for men, pink for girls\n",
    "\n",
    "# Lets see the tips depending on sex\n",
    "# Add kind. height and aspect to position accross the page\n",
    "ax = sns.violinplot(x=\"day\", y=\"total_bill\", kind=\"violin\", data=tips, inner=\"quartile\", scale=\"count\")\n",
    "# Add title to the plot and set size\n",
    "ax.set_title('Distribution of tips amount per day', fontsize=16);\n",
    "plt.show()\n",
    "\n",
    "print(\"\\n\\n\")\n",
    "\n",
    "\n",
    "# Lets see the tips depending on sex\n",
    "sns.set(rc={'figure.figsize':(10,10)}) # Set display size\n",
    "ax = sns.violinplot(x=\"day\", y=\"total_bill\", hue=\"sex\", data=tips, inner=\"quartile\", scale=\"count\", palette=colours)\n",
    "# Add title to the plot and set size\n",
    "ax.set_title('Distribution of total bill amount per day', fontsize=16);\n",
    "plt.show()\n",
    "\n",
    "\n",
    "print(\"\\n\\n\")\n",
    "\n",
    "\n",
    "# Lets see the tips depending on sex\n",
    "# Add kind. height and aspect to position accross the page\n",
    "ax = sns.violinplot(x=\"day\", y=\"tip\", hue=\"sex\",kind=\"violin\", data=tips, inner=\"quartile\", scale=\"count\", palette=colours)\n",
    "# Add title to the plot and set size\n",
    "ax.set_title('Distribution of tips amount per day', fontsize=16);\n",
    "plt.show()\n",
    "\n"
   ]
  },
  {
   "cell_type": "markdown",
   "metadata": {},
   "source": [
    "<hr>"
   ]
  },
  {
   "cell_type": "markdown",
   "metadata": {},
   "source": [
    "### Histogram\n",
    "The histogram is very useful when we want to explore our data and give us an understanding of the distribution of the data set. We can set the bin size (by default this is set to 10). It is a good idea to change the bin size as it will output the graph in different ways and might potentially display something that is hidden. I have used bin=30 and implemented the histogram using seaborn. Seaborn uses the distplot function to create histograms.\n",
    "\n",
    "#### 1.2 (Total_Bill)\n",
    "From the total bill histograms we can see that they seem to indicate a bell shaped curve or normal distribution. The total bill variable appears skewed in nature and most of the bill values are in the range of ten to twenty dollars."
   ]
  },
  {
   "cell_type": "code",
   "execution_count": null,
   "metadata": {},
   "outputs": [],
   "source": [
    "# Histogram, Bins allow us to view more accurate results.\n",
    "\n",
    "# Set the size of the histogram\n",
    "sns.set(rc={'figure.figsize':(20,10)})\n",
    "\n",
    "# Disply histogram \n",
    "sns.distplot(tips['total_bill'], kde=False, bins=30).set_title(\"Histogram of Total Bill\", fontsize=40)\n",
    "\n",
    "\n",
    "# Histogram to compare Male and Female\n",
    "# https://www.shanelynn.ie/select-pandas-dataframe-rows-and-columns-using-iloc-loc-and-ix/\n",
    "# https://pythonbasics.org/seaborn-distplot/\n",
    "fig,axes=plt.subplots(1,2)\n",
    "male = tips.loc[tips[\"sex\"] == \"Male\", [\"sex\", \"total_bill\"]]\n",
    "sns.distplot(male[\"total_bill\"], color = \"blue\", ax=axes[0]).set_title(\"Histogram for Male Total Bill\", fontsize=30)\n",
    "\n",
    "female = tips.loc[tips[\"sex\"] == \"Female\", [\"sex\", \"total_bill\"]]\n",
    "sns.distplot(female[\"total_bill\"], color = \"pink\", ax=axes[1]).set_title(\"Histogram for Female Total Bill\", fontsize=30)\n",
    "plt.show()"
   ]
  },
  {
   "cell_type": "markdown",
   "metadata": {},
   "source": [
    "<hr>"
   ]
  },
  {
   "cell_type": "markdown",
   "metadata": {},
   "source": [
    "#### 1.2 (Tip)\n",
    "\n",
    "The tip variable appears skewed in nature and most of the bill values are in the range of two and four dollars. "
   ]
  },
  {
   "cell_type": "code",
   "execution_count": null,
   "metadata": {
    "scrolled": false
   },
   "outputs": [],
   "source": [
    "# Histogram, Bins allow us to view more accurate results. From the Histogram we can see that most tips are between 2 and 4 \n",
    "\n",
    "# Set the size of the histogram\n",
    "sns.set(rc={'figure.figsize':(20,10)})\n",
    "\n",
    "# Disply histogram \n",
    "sns.distplot(tips['tip'], kde=False, bins=30).set_title(\"Histogram of all Tips\", fontsize=40)\n",
    "\n",
    "\n",
    "# Histogram to compare Male and Female\n",
    "# https://www.shanelynn.ie/select-pandas-dataframe-rows-and-columns-using-iloc-loc-and-ix/\n",
    "# https://pythonbasics.org/seaborn-distplot/\n",
    "\n",
    "fig,axes=plt.subplots(1,2) # Used to place graps side by side\n",
    "male = tips.loc[tips[\"sex\"] == \"Male\", [\"tip\"]] # Pull the columns required related to male gender\n",
    "sns.distplot(male[\"tip\"], color = \"blue\", ax=axes[0]).set_title(\"Histogram for Male Tips\", fontsize=30)\n",
    "\n",
    "female = tips.loc[tips[\"sex\"] == \"Female\", [\"tip\"]] # Pull the columns required related to male gender\n",
    "sns.distplot(female[\"tip\"], color = \"pink\", ax=axes[1]) .set_title(\"Histogram for Female Tips\", fontsize=30)\n",
    "plt.show()"
   ]
  },
  {
   "cell_type": "markdown",
   "metadata": {},
   "source": [
    "<hr>"
   ]
  },
  {
   "cell_type": "markdown",
   "metadata": {},
   "source": [
    "## Break the Dataset representing the different days\n",
    "The Two main features in Seaborn to visualize the linear relationships determined by regression are regplot() and lmplot() and are closely related and share most of the core functionality. However, it's important to understand how they are different. The two functions plot a scatter plot of two variables x and y, then fit the regression model y~x and plot the regression line and 95% confidence interval for the regression line. <i>(Tutorialspoint.com, 2019)</i>\n",
    "\n",
    "How the relationship changes between these two variables change when we add a third variable is the difference between regplot() and lmplot(). regplot() always shows a single relationship, lmplot() combines regplot() with FacetGrid to provide a simple interface that displays linear regression. According to (Tutorialspoint.com, 2019), \"The FacetGrid class helps in visualizing the distribution of one variable as well as the relationship between multiple variables separately within subsets of your dataset using multiple panels.\"\n",
    "\n",
    "In this section I will be looking at how the total bill affects tip. Y will be the independent and X will be the dependent. I will be specifying a hue so the output will display one and two regressions in the scatter plots. When implementing the lmplot this will display four plots in total, this is great for doing multiple regressions and analysis across many categorical data points and trying to find relationships. I will also have a summary at the end of each day displaying how many people were in the restaurant and what was the total bill and total tips received."
   ]
  },
  {
   "cell_type": "markdown",
   "metadata": {},
   "source": [
    "<hr>"
   ]
  },
  {
   "cell_type": "markdown",
   "metadata": {},
   "source": [
    "### Thursday:\n",
    "\n",
    "The first day to investigate is Thursday and we can see from the scatter plot that just like my results earlier showing that most tips are within the range of two and four dollars. It is interesting to note that they one had one booking of two for dinner. More data would need to be collected to see if this is a regular occurrence because it would bot be cost effective paying bills and wages if they are not popular during dinner time. We can see that in most cases the tip increases when the total bill is higher. "
   ]
  },
  {
   "cell_type": "code",
   "execution_count": null,
   "metadata": {
    "scrolled": false
   },
   "outputs": [],
   "source": [
    "# Pull data on different days, plot one by one and investigate\n",
    "thur = tips [tips ['day'] == \"Thur\"]\n",
    "\n",
    "# Plot regplot for Thursday\n",
    "\n",
    "plt.suptitle(\"Scatter Plot for Thursday\", fontsize = 30) # Add Title\n",
    "plt.xlabel(\"Total_Bill\")               # Add Label\n",
    "plt.ylabel(\"Tip\")                      # Add Label\n",
    "plt.xticks(fontsize=15, rotation=20)\n",
    "plt.yticks(fontsize=15, rotation=20)\n",
    "\n",
    "thurTotalTip = thur.iloc[:,1] # Use Column 1 (tip)\n",
    "thurTotalBill = thur.iloc[:,0] # Use column 0 (total_bill)\n",
    "\n",
    "#  linear relationship as determined using regplot\n",
    "thursday = sns.regplot(thurTotalBill,thurTotalTip)\n",
    "\n",
    "\n",
    "# linear relationship as determined using lmplot\n",
    "\n",
    "# lmplot to view data on thursday based on smoker and time and row\n",
    "sns.lmplot(x=\"total_bill\", y=\"tip\", hue =\"smoker\", data=thur, col=\"time\", row =\"sex\" ,palette=\"Set2\", height=10, \n",
    "           aspect=1, markers=[\"o\",\"v\"]).fig.suptitle(\"\\nView Based on Smoker,Time and Gender\", fontsize=30)\n",
    "plt.tight_layout(8) # Add space between plots\n",
    "\n",
    "plt.show()"
   ]
  },
  {
   "cell_type": "code",
   "execution_count": null,
   "metadata": {},
   "outputs": [],
   "source": [
    "# Double check that dinner booking of 1 is correct\n",
    "print(thur.groupby([\"sex\", \"time\", \"size\"])[\"time\"].count().unstack().fillna(0))\n",
    "\n",
    "# Print total bill on thursday\n",
    "thurTotalBill = thurTotalBill.sum()\n",
    "print(\"\\nTotal Bill on Thursday is :${:.2f}\".format(thurTotalBill))\n",
    "\n",
    "# Print total tip on thursday\n",
    "thurTotalTip = thurTotalTip.sum()\n",
    "print(\"\\nTotal Bill on Thursday is :${:.2f}\".format(thurTotalTip))"
   ]
  },
  {
   "cell_type": "markdown",
   "metadata": {},
   "source": [
    "<hr>"
   ]
  },
  {
   "cell_type": "markdown",
   "metadata": {},
   "source": [
    "### Friday :\n",
    "\n",
    "The second day to investigate is Friday and we can see from the scatter plot Friday is a busier day with both lunch and dinner. Earlier in the project when finding out the best day to work with regards to tips, Friday was the quietest day overall. "
   ]
  },
  {
   "cell_type": "code",
   "execution_count": null,
   "metadata": {},
   "outputs": [],
   "source": [
    "# Pull data on different days, plot one by one and investigate\n",
    "fri = tips [tips ['day'] == \"Fri\"]\n",
    "\n",
    "# Plot Friday\n",
    "plt.suptitle(\"Scatter Plot for Friday\", fontsize = 30) # Add Title\n",
    "plt.xlabel(\"Total_Bill\")               # Add Label\n",
    "plt.ylabel(\"Tip\")                      # Add Label\n",
    "plt.xticks(fontsize=15, rotation=20)   \n",
    "plt.yticks(fontsize=15, rotation=20)\n",
    "\n",
    "friTotalTip = fri.iloc[:,1] # Use Column 1 (tip)\n",
    "friTotalBill = fri.iloc[:,0] # Use column 0 (total_bill)\n",
    "\n",
    "#  linear relationship as determined using regplot\n",
    "friday = sns.regplot(friTotalBill, friTotalTip)\n",
    "\n",
    "\n",
    "# Linear regression using lmplot\n",
    "\n",
    "# lmplot to view data on thursday based on smoker and time and row\n",
    "sns.lmplot(x=\"total_bill\", y=\"tip\", hue =\"smoker\", data=fri, col=\"time\", row =\"sex\" ,palette=\"Set2\", height=10, \n",
    "           aspect=1, markers=[\"o\",\"v\"]).fig.suptitle(\"\\nView Based on Smoker,Time and Gender\", fontsize=30)\n",
    "plt.tight_layout(8) # Add space between plots\n",
    "\n",
    "plt.show()"
   ]
  },
  {
   "cell_type": "code",
   "execution_count": null,
   "metadata": {},
   "outputs": [],
   "source": [
    "# View the party sizes\n",
    "print(fri.groupby([\"sex\", \"time\", \"size\"])[\"time\"].count().unstack().fillna(0))\n",
    "\n",
    "# Print total bill on Friday\n",
    "friTotalBill = friTotalBill.sum()\n",
    "print(\"\\nTotal Bill on Friday is :${:.2f}\".format(friTotalBill))\n",
    "\n",
    "# Print total tip on Friday\n",
    "friTotalTip = friTotalTip.sum()\n",
    "print(\"\\nTotal Bill on Friday is :${:.2f}\".format(friTotalTip))"
   ]
  },
  {
   "cell_type": "markdown",
   "metadata": {},
   "source": [
    "<hr>"
   ]
  },
  {
   "cell_type": "markdown",
   "metadata": {},
   "source": [
    "### Saturday :\n",
    "\n",
    "The third day to investigate is Saturday and we can see from the scatter plot that Saturday is the busiest day data was collected. It is interesting to note that nothing was recorded for lunch. Would this indicate that the restaurant is closed during lunch on a Saturday?, or was the staff member collecting the data working during the evening as it is possible that they might stay open late on a Saturday."
   ]
  },
  {
   "cell_type": "code",
   "execution_count": null,
   "metadata": {},
   "outputs": [],
   "source": [
    "# Pull data on different days, plot one by one and investigate\n",
    "sat = tips [tips ['day'] == \"Sat\"]\n",
    "\n",
    "# Plot Saturday\n",
    "\n",
    "plt.suptitle(\"Scatter Plot for Saturday\", fontsize = 30) # Add Title\n",
    "plt.xlabel(\"Total_Bill\")               # Add Label\n",
    "plt.ylabel(\"Tip\")                      # Add Label\n",
    "plt.xticks(fontsize=15, rotation=20)\n",
    "plt.yticks(fontsize=15, rotation=20)\n",
    "\n",
    "satTotalTip = sat.iloc[:,1] # Use Column 1 (tip)\n",
    "satTotalBill = sat.iloc[:,0] # Use column 0 (total_bill)\n",
    "\n",
    "\n",
    "#  linear relationship as determined using regplot\n",
    "saturday = sns.regplot(satTotalBill,satTotalTip)\n",
    "\n",
    "\n",
    "\n",
    "##inear regression using lmplot\n",
    "\n",
    "# lmplot to view data on thursday based on smoker and time and row\n",
    "sns.lmplot(x=\"total_bill\", y=\"tip\", hue =\"smoker\", data=sat, col=\"time\", row =\"sex\" ,palette=\"Set2\", height=10, \n",
    "           aspect=1, markers=[\"o\",\"v\"]).fig.suptitle(\"\\nView Based on Smoker,Time and Gender\", fontsize=30)\n",
    "plt.tight_layout(8) # Add space between plots\n",
    "\n",
    "plt.show()"
   ]
  },
  {
   "cell_type": "code",
   "execution_count": null,
   "metadata": {},
   "outputs": [],
   "source": [
    "# Group by saturday\n",
    "print(sat.groupby([\"sex\", \"time\", \"size\"])[\"time\"].count().unstack().fillna(0))\n",
    "\n",
    "# Print total bill on Saturday\n",
    "satTotalBill = satTotalBill.sum()\n",
    "print(\"\\nTotal Bill on Saturday is :${:.2f}\".format(satTotalBill))\n",
    "\n",
    "# Print total tip on Saturday\n",
    "satTotalTip = satTotalTip.sum()\n",
    "print(\"\\nTotal Bill on Saturday is :${:.2f}\".format(satTotalTip))"
   ]
  },
  {
   "cell_type": "markdown",
   "metadata": {},
   "source": [
    "<hr>"
   ]
  },
  {
   "cell_type": "markdown",
   "metadata": {},
   "source": [
    "### Sunday : \n",
    "\n",
    "The fourth day to investigate is Sunday and we can see from the scatter plot that Sunday is the second busiest day data was collected. It is interesting to note that again, like Saturday, nothing was recorded for lunch. The overall tips received on Sunday is scattered and has no clear relationship to the amount received as total bill. "
   ]
  },
  {
   "cell_type": "code",
   "execution_count": null,
   "metadata": {
    "scrolled": false
   },
   "outputs": [],
   "source": [
    "# Pull data on different days, plot one by one and investigate\n",
    "sun = tips [tips ['day'] == \"Sun\"]\n",
    "\n",
    "# Plot Sunday\n",
    "\n",
    "plt.suptitle(\"Scatter Plot for Sunday\", fontsize = 30) # Add Title\n",
    "plt.xlabel(\"Total_Bill\")               # Add Label\n",
    "plt.ylabel(\"Tip\")                      # Add Label\n",
    "plt.xticks(fontsize=15, rotation=20)\n",
    "plt.yticks(fontsize=15, rotation=20)\n",
    "\n",
    "sunTotalTip = sun.iloc[:,1] # Use Column 1 (tip)\n",
    "sunTotalBill = sun.iloc[:,0] # Use column 0 (total_bill)\n",
    "\n",
    "\n",
    "#  linear relationship as determined using regplot\n",
    "sunday = sns.regplot(sunTotalBill,sunTotalTip)\n",
    "\n",
    "\n",
    "\n",
    "## Linear regression using lmplot\n",
    "\n",
    "# lmplot to view data on thursday based on smoker and time and row\n",
    "sns.lmplot(x=\"total_bill\", y=\"tip\", hue =\"smoker\", data=sun, col=\"time\", row =\"sex\" ,palette=\"Set2\", height=10, \n",
    "           aspect=1, markers =[\"o\", \"v\"]).fig.suptitle(\"\\nView Based on Smoker,Time and Gender\", fontsize=30)\n",
    "plt.tight_layout(8) # Add space between plots\n",
    "\n",
    "plt.show()"
   ]
  },
  {
   "cell_type": "code",
   "execution_count": null,
   "metadata": {},
   "outputs": [],
   "source": [
    "# Group by Sunday\n",
    "print(sun.groupby([\"sex\", \"time\", \"size\"])[\"time\"].count().unstack().fillna(0))\n",
    "\n",
    "# Print total bill on Sunday\n",
    "sunTotalBill = sunTotalBill.sum()\n",
    "print(\"\\nTotal Bill on Sunday is :${:.2f}\".format(sunTotalBill))\n",
    "\n",
    "# Print total tip on Sunday\n",
    "sunTotalTip = sunTotalTip.sum()\n",
    "print(\"\\nTotal Bill on Sunday is :${:.2f}\".format(sunTotalTip))\n"
   ]
  },
  {
   "cell_type": "markdown",
   "metadata": {},
   "source": [
    "## Testing Model\n",
    "\n",
    "The mean square error (MSE) always a positive number that what will evaluate the algorithm as it will generate an idea of how incorrect the predictions are. The ideal MSE is not zero, since then you would have a model that perfectly predicts your training data, but which is very unlikely to perfectly predict any other data. The MSE will basically check what the difference is between the actual value and the predicted value. (Agrimetsoft.com, 2019)\n",
    "\n",
    "The values for R2 range from 0 to 1, which captures the percentage of squared correlation between the predicted and actual values of the target variable. A model with an R2 of 0 always fails to predict the target variable, whereas a model with an R2 of 1 perfectly predicts the target variable. Any value between 0 and 1 indicates what percentage of the target variable, using this model, can be explained by the features. A model can be given a negative R2 as well, which indicates that the model is no better than one that naively predicts the mean of the target variable.(The Balance Small Business, 2019)"
   ]
  },
  {
   "cell_type": "markdown",
   "metadata": {},
   "source": [
    "### Assign and Train\n",
    "\n",
    "In this section I have assigned X and Y columns from the dataset and split the dataset 70:30. I have specified a random seed of 26 and what this will do is sets a seed to the random generator. I have specified a test_size of 0.30 and this boolean should be between 0.0 and 1.0, it represents the proportion I want to include in the train split which in this case is 30 percent. \n",
    "\n",
    "In this dataset we have string entries that represent gender for example, we first must change these to numbers so the computer can understand. To complete this I have used a replace, this will convert strings to numbers and once completed I have displayed the head as output to demonstrate what was changed."
   ]
  },
  {
   "cell_type": "code",
   "execution_count": null,
   "metadata": {},
   "outputs": [],
   "source": [
    "# Replace strings with numbers \n",
    "tips.replace({ 'sex': {'Male':0 , 'Female':1} ,'day': {'Thur':1 , 'Fri':2, 'Sat' :3, 'Sun' :4} , 'smoker' : {'No': 0 , 'Yes': 1}} ,inplace=True)\n",
    "# Show head to see not format.\n",
    "print(tips.head())\n",
    "\n",
    "''' Assign columns to X and Y '''\n",
    "X = tips[['sex','smoker','size']]\n",
    "Y = tips[['tip']]\n",
    "\n",
    "\n",
    "'''Split data into training and test data and Print to screen if split completed'''\n",
    "# random_state sets a seed to the random generator\n",
    "# test_size should be between 0.0 and 1.0 and will represent the proportion I want to include in the train split.\n",
    "X_train, X_test , Y_train , Y_test = train_test_split(X,Y,test_size=0.30,random_state=26)\n",
    "print(\"Training and testing split was successful.\\n\")"
   ]
  },
  {
   "cell_type": "markdown",
   "metadata": {},
   "source": [
    "### Build Model\n",
    "\n",
    "In statistics, linear regression is a very commonly used type of predictive analysis. The idea of regression is where we want to examine relationships between two or more variables. One variable is the independent variable while the other variable would be a dependent variable and searches for a statistical relationship but not deterministic relationship. The idea of linear regression is to use data to build a model used to predict future data. The predicted data is called the target, and the data used to make predictions are called the features.(The Balance Small Business, 2019)\n",
    "\n",
    "We can see from the output that by using a Linear Regression model the returning mean squared error is 0.74 which is very good. We want this number as low as possible. The r2 that was calculated for the model is 0.2 which is not a very good result as 20% of the model can be explained by the inputs. I have also outputted the predicted prices.<i>(Pandas.pydata.org, 2019)</i>"
   ]
  },
  {
   "cell_type": "code",
   "execution_count": null,
   "metadata": {},
   "outputs": [],
   "source": [
    "from sklearn.metrics import mean_squared_error\n",
    "\n",
    "# Use all 13 predictors to fit linear regression model\n",
    "linear_model = LinearRegression()\n",
    "linear_model.fit(X_train, Y_train)\n",
    "\n",
    "predictions=linear_model.predict(X_test) # Store predict in variable\n",
    "\n",
    "# make predictions using the model\n",
    "print(\"Mean Square Error : {}\".format(round(mean_squared_error(Y_test, predictions), 2)))\n",
    "\n",
    "# Find and print R-Squared (Rounded to 3 decimal places)\n",
    "print(\"R-Squared         : {}\".format(round(linear_model.score(X_train,Y_train),2)))\n"
   ]
  },
  {
   "cell_type": "code",
   "execution_count": null,
   "metadata": {},
   "outputs": [],
   "source": [
    "# Predict house prices.\n",
    "print(\"Predicted prices\\n\", predictions)"
   ]
  },
  {
   "cell_type": "code",
   "execution_count": null,
   "metadata": {
    "scrolled": false
   },
   "outputs": [],
   "source": [
    "print(sns.distplot(Y_test-predictions))"
   ]
  },
  {
   "cell_type": "markdown",
   "metadata": {},
   "source": [
    "## Conclusion\n",
    "\n",
    " \n",
    "In conclusion to this project I found that overall, I would like to analysis more of this data to look at trends that I noticed during my investigations. It was interesting to note that on Thursday the business only had one booking for dinner. At first, I was thinking that maybe they had a private booking for Dinner but looking at the results from my plots I can see that during this time the total bill cost was 18.78 dollars, and it would not be possible to book a restaurant privately without paying something to cover overheads. Maybe it was this a slow afternoon, if it is a regular occurrence this would not be financially beneficial to ignore this. If this was a regular occurrence maybe they could try some promotional ideas to try attracting customers. \n",
    "\n",
    "Friday was a busy day because they had customers for both Lunch and Dinner but the overall total bill of 325.88 dollars was very low compared to the other days. Saturday and Sunday as expected would be the busiest day. During my investigation I noticed that they did not record any customers during Lunch on both days. Wonder was the restaurant closed in the morning and maybe opened later Saturday and Sunday when the footfall would be higher. With regards to the staff working they days, the tip percentage averaged between fourteen and sixteen dollars over all days with Saturday generating the highest number of tips that was 260.40 dollars. \n",
    "\n",
    "From my finding we can see that the restaurant had 157 Male and 87 Female customers (244 total). From the total of 244 customers they had 60 male smokers and 33 female smokers. The total tips received from smokers was higher from men but this can be expected as the amount of male smokes was almost double. The total amount of smokers (Male and Female) was 93 while the total amount of non smokers(Male and Female) was 152 and we can see that the total amount of tips was higher from non smokers but this would be expected as more customers did not smoke. I have broken down each day into different regression plots and we can see that in most cases the tip increases when the total bill is higher."
   ]
  },
  {
   "cell_type": "code",
   "execution_count": null,
   "metadata": {},
   "outputs": [],
   "source": []
  }
 ],
 "metadata": {
  "kernelspec": {
   "display_name": "Python 3",
   "language": "python",
   "name": "python3"
  },
  "language_info": {
   "codemirror_mode": {
    "name": "ipython",
    "version": 3
   },
   "file_extension": ".py",
   "mimetype": "text/x-python",
   "name": "python",
   "nbconvert_exporter": "python",
   "pygments_lexer": "ipython3",
   "version": "3.7.5"
  }
 },
 "nbformat": 4,
 "nbformat_minor": 2
}
